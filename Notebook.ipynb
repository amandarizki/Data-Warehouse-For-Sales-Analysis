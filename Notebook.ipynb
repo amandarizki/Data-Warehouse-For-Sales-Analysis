{
 "cells": [
  {
   "cell_type": "markdown",
   "id": "92ac3af7-ec14-4223-a234-9cc22a620015",
   "metadata": {},
   "source": [
    "# DATA  WAREHOUSE FOR SALES ANALYSIS\n",
    "\n",
    "Program ini dibuat untuk menyusun Data Warehouse untuk kebutuhan analisis perusahaan terkait dengan penjualan."
   ]
  },
  {
   "cell_type": "code",
   "execution_count": 1,
   "id": "203d29d1-1fc2-4722-be95-0ce2773b3f8c",
   "metadata": {
    "scrolled": true
   },
   "outputs": [],
   "source": [
    "from pyspark.sql import SparkSession\n",
    "\n",
    "# Initialize Spark Session\n",
    "spark = SparkSession.builder\\\n",
    "    .appName(\"WriteToPostgres\")\\\n",
    "    .config(\"spark.jars.packages\", \"org.postgresql:postgresql:42.6.0\")\\\n",
    "    .getOrCreate()"
   ]
  },
  {
   "cell_type": "markdown",
   "id": "c8a93fdd-1905-4552-a7c0-7f5d33115ec3",
   "metadata": {},
   "source": [
    "# Create Dataframe from Each Table"
   ]
  },
  {
   "cell_type": "markdown",
   "id": "b67f85b4-a292-49e2-abd1-21d04840eb0a",
   "metadata": {},
   "source": [
    "## Fact Transaction (fact_transaction)"
   ]
  },
  {
   "cell_type": "code",
   "execution_count": 2,
   "id": "2a545d43-fb22-4b8b-b4a6-e602342ffdbf",
   "metadata": {},
   "outputs": [
    {
     "name": "stdout",
     "output_type": "stream",
     "text": [
      "+--------------+--------+-------+----------+--------+------------------+------------------+--------------------+------------------+----------------+----------+------------+-----------+-----------+\n",
      "|transaction_id|order_id|user_id|product_id| date_id|        sale_price|              cost|              profit|transaction_status|is_order_created|is_shipped|is_delivered|is_returned|num_of_item|\n",
      "+--------------+--------+-------+----------+--------+------------------+------------------+--------------------+------------------+----------------+----------+------------+-----------+-----------+\n",
      "|        177152|  122160|  98069|     14235|20250412|0.0199999995529651|0.0082999997779726|0.011699999774992502|         Cancelled|            true|     false|       false|      false|          1|\n",
      "|         28849|   19870|  15771|     14235|20240529|0.0199999995529651|0.0082999997779726|0.011699999774992502|          Complete|            true|      true|        true|      false|          4|\n",
      "|         27428|   18901|  15036|     14235|20240514|0.0199999995529651|0.0082999997779726|0.011699999774992502|        Processing|            true|     false|       false|      false|          1|\n",
      "|         79317|   54742|  43944|     14235|20250203|0.0199999995529651|0.0082999997779726|0.011699999774992502|           Shipped|            true|      true|       false|      false|          2|\n",
      "|        158000|  108931|  87429|     14235|20250118|0.0199999995529651|0.0082999997779726|0.011699999774992502|           Shipped|            true|      true|       false|      false|          3|\n",
      "|        158430|  109231|  87673|     14235|20210107|0.0199999995529651|0.0082999997779726|0.011699999774992502|           Shipped|            true|      true|       false|      false|          1|\n",
      "|         83110|   57343|  46035|     14159|20221105|0.4900000095367431|0.1773800033208727|  0.3126200062158704|          Complete|            true|      true|        true|      false|          1|\n",
      "|         91239|   62922|  50507|     14159|20241018|0.4900000095367431|0.1773800033208727|  0.3126200062158704|        Processing|            true|     false|       false|      false|          4|\n",
      "|        151897|  104774|  84027|     14159|20250502|0.4900000095367431|0.1773800033208727|  0.3126200062158704|        Processing|            true|     false|       false|      false|          1|\n",
      "|        171504|  118258|  94905|     28700|20250401|               1.5|0.6059999980498105|  0.8940000019501895|         Cancelled|            true|     false|       false|      false|          1|\n",
      "|         24984|   17231|  13685|     28700|20250207|               1.5|0.6059999980498105|  0.8940000019501895|          Complete|            true|      true|        true|      false|          4|\n",
      "|        124810|   86140|  69028|     28700|20240815|               1.5|0.6059999980498105|  0.8940000019501895|          Complete|            true|      true|        true|      false|          4|\n",
      "|         16462|   11350|   8996|     28700|20240312|               1.5|0.6059999980498105|  0.8940000019501895|          Returned|            true|      true|        true|       true|          4|\n",
      "|         18885|   13004|  10325|     14202|20250328|               1.5| 0.617999997921288|   0.882000002078712|          Returned|            true|      true|        true|       true|          3|\n",
      "|         31270|   21529|  17087|     14202|20230520|               1.5| 0.617999997921288|   0.882000002078712|          Returned|            true|      true|        true|       true|          4|\n",
      "|        153960|  106181|  85162|     14202|20230714|               1.5| 0.617999997921288|   0.882000002078712|          Returned|            true|      true|        true|       true|          1|\n",
      "|          6091|    4226|   3344|     14202|20240619|               1.5| 0.617999997921288|   0.882000002078712|           Shipped|            true|      true|       false|      false|          1|\n",
      "|          6236|    4329|   3422|     14202|20240117|               1.5| 0.617999997921288|   0.882000002078712|           Shipped|            true|      true|       false|      false|          4|\n",
      "|         20327|   14009|  11093|     14202|20230411|               1.5| 0.617999997921288|   0.882000002078712|           Shipped|            true|      true|       false|      false|          1|\n",
      "|         22357|   15439|  12242|     14202|20240819|               1.5| 0.617999997921288|   0.882000002078712|           Shipped|            true|      true|       false|      false|          1|\n",
      "+--------------+--------+-------+----------+--------+------------------+------------------+--------------------+------------------+----------------+----------+------------+-----------+-----------+\n",
      "only showing top 20 rows\n",
      "\n"
     ]
    }
   ],
   "source": [
    "fact_transaction = spark.read.csv('fact_transaction.csv', header=True, inferSchema=True)\n",
    "fact_transaction.show()"
   ]
  },
  {
   "cell_type": "markdown",
   "id": "e5d86f60-d124-46a8-b6bb-cc437ba8b1da",
   "metadata": {},
   "source": [
    "## Dimension Product (dim_product)"
   ]
  },
  {
   "cell_type": "code",
   "execution_count": 3,
   "id": "57fcd3f4-5d4b-4d62-a1f0-d255537b160f",
   "metadata": {},
   "outputs": [
    {
     "name": "stdout",
     "output_type": "stream",
     "text": [
      "+-----------+--------------------+-----+-----------+----------+------------------+------------------+\n",
      "|product_key|                name|brand|   category|department|      retail_price|              cost|\n",
      "+-----------+--------------------+-----+-----------+----------+------------------+------------------+\n",
      "|      13842|Low Profile Dyed ...|   MG|Accessories|     Women|              6.25| 2.518749990849756|\n",
      "|      13928|Low Profile Dyed ...|   MG|Accessories|     Women| 5.949999809265137|2.3383499148894105|\n",
      "|      14115|Enzyme Regular So...|   MG|Accessories|     Women|10.989999771118164| 4.879559879379869|\n",
      "|      14157|Enzyme Regular So...|   MG|Accessories|     Women|10.989999771118164| 4.648769887297898|\n",
      "|      14273|Washed Canvas Ivy...|   MG|Accessories|     Women|15.989999771118164| 6.507929886473045|\n",
      "|      15674|Low Profile Dyed ...|   MG|       Plus|     Women|              6.25|3.1062499998370185|\n",
      "|      15816|Low Profile Dyed ...|   MG|       Plus|     Women| 5.949999809265137|3.1772999091416594|\n",
      "|      28646|4 Panel Large Bil...|   MG|Accessories|       Men|19.989999771118164|  8.73562987972319|\n",
      "|      28670|Low Profile Dyed ...|   MG|Accessories|       Men| 6.179999828338623|2.6759399153566363|\n",
      "|      28714|Low Profile Dyed ...|   MG|Accessories|       Men|              6.25| 2.275000000372529|\n",
      "|      28779|Fishing Hat (01)-...|   MG|Accessories|       Men|20.989999771118164|  7.36748991528362|\n",
      "|      28904|Fashion Plaid Ivy...|   MG|Accessories|       Men|15.989999771118164|6.7957498848550015|\n",
      "|      29007|Washed Hunting Fi...|   MG|Accessories|       Men|26.989999771118164|10.795999868229032|\n",
      "|      12777|Womens MW Tankini...|   MW|       Swim|     Women|  44.9900016784668|16.691290760814255|\n",
      "|      12810|Mw Long Ruffle Ta...|   MW|       Swim|     Women|  44.9900016784668|21.055320884742144|\n",
      "|      12812|Womens long tanki...|   MW|       Swim|     Women|  44.9900016784668| 21.14530090284795|\n",
      "|      12853|Womens MW Tankini...|   MW|       Swim|     Women|  44.9900016784668| 18.71584077014294|\n",
      "|      12900|Womens One Piece/...|   MW|       Swim|     Women|  39.9900016784668| 17.39565078823306|\n",
      "|      13247|Womens swimsuit M...|   MW|       Swim|     Women|  44.9900016784668| 20.65041088706643|\n",
      "|      13477|MW Women's Swimsu...|   MW|       Swim|     Women|  54.9900016784668|22.600890809484422|\n",
      "+-----------+--------------------+-----+-----------+----------+------------------+------------------+\n",
      "only showing top 20 rows\n",
      "\n"
     ]
    }
   ],
   "source": [
    "dim_product = spark.read.csv('dim_product.csv', header=True, inferSchema=True)\n",
    "dim_product.show()"
   ]
  },
  {
   "cell_type": "markdown",
   "id": "bdbe2ca0-f799-4761-b043-535ed7a2c1f2",
   "metadata": {},
   "source": [
    "## Dimension User (dim_user)"
   ]
  },
  {
   "cell_type": "code",
   "execution_count": 4,
   "id": "e89ae8ff-6c94-4851-b798-37f3a6e90c52",
   "metadata": {},
   "outputs": [
    {
     "name": "stdout",
     "output_type": "stream",
     "text": [
      "+--------+----------------+---+------+-----+--------+-------+--------------+\n",
      "|user_key|   customer_name|age|gender|state|    city|country|traffic_source|\n",
      "+--------+----------------+---+------+-----+--------+-------+--------------+\n",
      "|   25075|Clifford Johnson| 36|     M| Acre|    null| Brasil|        Search|\n",
      "|   97806|    Angela Lopez| 50|     F| Acre|    null| Brasil|        Search|\n",
      "|   41816|    Susan Kelley| 55|     F| Acre|    null| Brasil|        Search|\n",
      "|   82351|Jacqueline Zhang| 62|     F| Acre|    null| Brasil|        Search|\n",
      "|   70916|    Marie Parker| 66|     F| Acre|    null| Brasil|        Search|\n",
      "|   37563|      Daisy Rios| 18|     F| Acre|    null| Brasil|       Organic|\n",
      "|   85698|   Robert Wright| 45|     M| Acre|    null| Brasil|        Search|\n",
      "|   90954| Jennifer Rivera| 23|     F| Acre|    null| Brasil|        Search|\n",
      "|   29803| Allison Wheeler| 51|     F| Acre|    null| Brasil|       Organic|\n",
      "|   42991|      Sean Combs| 26|     M| Acre|    null| Brasil|        Search|\n",
      "|   80689|    Drew Montoya| 49|     M| Acre|    null| Brasil|         Email|\n",
      "|   22005| Michelle Bowers| 13|     F| Acre|    null| Brasil|       Organic|\n",
      "|   73795|     Tracey Bell| 29|     F| Acre|    null| Brasil|        Search|\n",
      "|   58684|    Sarah Taylor| 49|     F| Acre|    null| Brasil|       Organic|\n",
      "|   34334| Meredith Deleon| 68|     F| Acre|    null| Brasil|       Display|\n",
      "|   79597|   Anthony Mason| 55|     M| Acre|    null| Brasil|       Organic|\n",
      "|   51244|    Dawn Walters| 30|     F| Acre|    null| Brasil|        Search|\n",
      "|   20955|      Jamie Tran| 14|     F| Acre|Tarauacá| Brasil|      Facebook|\n",
      "|   69198|     Jordan Chan| 59|     F| Acre|Tarauacá| Brasil|        Search|\n",
      "|   71745|    Brandy Scott| 39|     F| Acre|Tarauacá| Brasil|        Search|\n",
      "+--------+----------------+---+------+-----+--------+-------+--------------+\n",
      "only showing top 20 rows\n",
      "\n"
     ]
    }
   ],
   "source": [
    "dim_user = spark.read.csv('dim_user.csv', header=True, inferSchema=True)\n",
    "dim_user.show()"
   ]
  },
  {
   "cell_type": "markdown",
   "id": "9ed8e19f-2d89-4684-92a6-ff328b47f4c3",
   "metadata": {},
   "source": [
    "## Dimension Date (dim_date)"
   ]
  },
  {
   "cell_type": "code",
   "execution_count": 5,
   "id": "be0625e1-6ceb-4bef-88ad-6ea8a8c66e45",
   "metadata": {},
   "outputs": [
    {
     "name": "stdout",
     "output_type": "stream",
     "text": [
      "+--------+----------+----+-------+-----+----+---+----------+---------+----------+\n",
      "|date_key| full_date|year|quarter|month|week|day|month_name| day_name|is_weekend|\n",
      "+--------+----------+----+-------+-----+----+---+----------+---------+----------+\n",
      "|20190110|2019-01-10|2019|      1|    1|   1| 10|   January| Thursday|     false|\n",
      "|20190111|2019-01-11|2019|      1|    1|   1| 11|   January|   Friday|     false|\n",
      "|20190117|2019-01-17|2019|      1|    1|   2| 17|   January| Thursday|     false|\n",
      "|20190118|2019-01-18|2019|      1|    1|   2| 18|   January|   Friday|     false|\n",
      "|20190122|2019-01-22|2019|      1|    1|   3| 22|   January|  Tuesday|     false|\n",
      "|20190123|2019-01-23|2019|      1|    1|   3| 23|   January|Wednesday|     false|\n",
      "|20190124|2019-01-24|2019|      1|    1|   3| 24|   January| Thursday|     false|\n",
      "|20190127|2019-01-27|2019|      1|    1|   4| 27|   January|   Sunday|      true|\n",
      "|20190128|2019-01-28|2019|      1|    1|   4| 28|   January|   Monday|     false|\n",
      "|20190129|2019-01-29|2019|      1|    1|   4| 29|   January|  Tuesday|     false|\n",
      "|20190204|2019-02-04|2019|      1|    2|   5|  4|  February|   Monday|     false|\n",
      "|20190205|2019-02-05|2019|      1|    2|   5|  5|  February|  Tuesday|     false|\n",
      "|20190206|2019-02-06|2019|      1|    2|   5|  6|  February|Wednesday|     false|\n",
      "|20190207|2019-02-07|2019|      1|    2|   5|  7|  February| Thursday|     false|\n",
      "|20190208|2019-02-08|2019|      1|    2|   5|  8|  February|   Friday|     false|\n",
      "|20190209|2019-02-09|2019|      1|    2|   5|  9|  February| Saturday|      true|\n",
      "|20190212|2019-02-12|2019|      1|    2|   6| 12|  February|  Tuesday|     false|\n",
      "|20190213|2019-02-13|2019|      1|    2|   6| 13|  February|Wednesday|     false|\n",
      "|20190214|2019-02-14|2019|      1|    2|   6| 14|  February| Thursday|     false|\n",
      "|20190215|2019-02-15|2019|      1|    2|   6| 15|  February|   Friday|     false|\n",
      "+--------+----------+----+-------+-----+----+---+----------+---------+----------+\n",
      "only showing top 20 rows\n",
      "\n"
     ]
    }
   ],
   "source": [
    "dim_date = spark.read.csv('dim_date.csv', header=True, inferSchema=True)\n",
    "dim_date.show()"
   ]
  },
  {
   "cell_type": "markdown",
   "id": "a42894d3-f213-46c3-b237-3bf5ee30f78a",
   "metadata": {},
   "source": [
    "# Simple Data Exploration"
   ]
  },
  {
   "cell_type": "code",
   "execution_count": 6,
   "id": "2de109bf-c5b3-4e56-a00e-909898658dd7",
   "metadata": {},
   "outputs": [
    {
     "name": "stdout",
     "output_type": "stream",
     "text": [
      "root\n",
      " |-- transaction_id: integer (nullable = true)\n",
      " |-- order_id: integer (nullable = true)\n",
      " |-- user_id: integer (nullable = true)\n",
      " |-- product_id: integer (nullable = true)\n",
      " |-- date_id: integer (nullable = true)\n",
      " |-- sale_price: double (nullable = true)\n",
      " |-- cost: double (nullable = true)\n",
      " |-- profit: double (nullable = true)\n",
      " |-- transaction_status: string (nullable = true)\n",
      " |-- is_order_created: boolean (nullable = true)\n",
      " |-- is_shipped: boolean (nullable = true)\n",
      " |-- is_delivered: boolean (nullable = true)\n",
      " |-- is_returned: boolean (nullable = true)\n",
      " |-- num_of_item: integer (nullable = true)\n",
      "\n"
     ]
    }
   ],
   "source": [
    "fact_transaction.printSchema()"
   ]
  },
  {
   "cell_type": "code",
   "execution_count": 7,
   "id": "864aa880-5b7b-496b-803f-1264383dc608",
   "metadata": {},
   "outputs": [
    {
     "name": "stdout",
     "output_type": "stream",
     "text": [
      "+-------+-----------------+------------------+-----------------+------------------+-------------------+------------------+------------------+--------------------+------------------+------------------+\n",
      "|summary|   transaction_id|          order_id|          user_id|        product_id|            date_id|        sale_price|              cost|              profit|transaction_status|       num_of_item|\n",
      "+-------+-----------------+------------------+-----------------+------------------+-------------------+------------------+------------------+--------------------+------------------+------------------+\n",
      "|  count|           180753|            180753|           180753|            180753|             180753|            180753|            180753|              180753|            180753|            180753|\n",
      "|   mean|          90377.0| 62346.73523537645|49965.45678356652|15247.829800888505|2.023395831183438E7| 59.56965505978409|28.638876275239355|  30.930778784544685|              NULL| 1.900488511947243|\n",
      "| stddev|52179.04094078388|35976.024408652826|28910.38709272607|   8413.3783077959| 14554.410505756563| 66.55959895256596|30.961243131047794|  36.590008319262274|              NULL|1.0669557269345564|\n",
      "|    min|                1|                 1|                1|                 1|           20190110|0.0199999995529651|0.0082999997779726|0.011699999774992502|         Cancelled|                 1|\n",
      "|    max|           180753|            124619|           100000|             29120|           20250510|             999.0| 557.1510021798313|   594.4049988090992|           Shipped|                 4|\n",
      "+-------+-----------------+------------------+-----------------+------------------+-------------------+------------------+------------------+--------------------+------------------+------------------+\n",
      "\n"
     ]
    }
   ],
   "source": [
    "fact_transaction.describe().show()"
   ]
  },
  {
   "cell_type": "code",
   "execution_count": 8,
   "id": "f4b19d63-7752-4696-b909-de7d60cd0ff2",
   "metadata": {},
   "outputs": [
    {
     "name": "stdout",
     "output_type": "stream",
     "text": [
      "root\n",
      " |-- product_key: integer (nullable = true)\n",
      " |-- name: string (nullable = true)\n",
      " |-- brand: string (nullable = true)\n",
      " |-- category: string (nullable = true)\n",
      " |-- department: string (nullable = true)\n",
      " |-- retail_price: double (nullable = true)\n",
      " |-- cost: double (nullable = true)\n",
      "\n"
     ]
    }
   ],
   "source": [
    "dim_product.printSchema()"
   ]
  },
  {
   "cell_type": "code",
   "execution_count": 9,
   "id": "44df5671-2026-404a-be9a-c972ab95f849",
   "metadata": {},
   "outputs": [
    {
     "name": "stdout",
     "output_type": "stream",
     "text": [
      "+-------+-----------------+--------------------+---------+-----------+----------+------------------+------------------+\n",
      "|summary|      product_key|                name|    brand|   category|department|      retail_price|              cost|\n",
      "+-------+-----------------+--------------------+---------+-----------+----------+------------------+------------------+\n",
      "|  count|            29120|               29118|    29096|      29120|     29120|             29120|             29120|\n",
      "|   mean|          14560.5|                NULL| Infinity|       NULL|      NULL|59.220163865731955| 28.48177424043702|\n",
      "| stddev|8406.364255729119|                NULL|      NaN|       NULL|      NULL| 65.88892669575863|30.624681214377663|\n",
      "|    min|                1|!iT Jeans Junior'...|!it Jeans|Accessories|       Men|0.0199999995529651|0.0082999997779726|\n",
      "|    max|            29120|Â Â Exclusive Haw...|wear ease|  Underwear|     Women|             999.0| 557.1510021798313|\n",
      "+-------+-----------------+--------------------+---------+-----------+----------+------------------+------------------+\n",
      "\n"
     ]
    }
   ],
   "source": [
    "dim_product.describe().show()"
   ]
  },
  {
   "cell_type": "code",
   "execution_count": 10,
   "id": "807a12e4-a5c9-40e5-8b0f-4246a0c65734",
   "metadata": {},
   "outputs": [
    {
     "name": "stdout",
     "output_type": "stream",
     "text": [
      "root\n",
      " |-- user_key: integer (nullable = true)\n",
      " |-- customer_name: string (nullable = true)\n",
      " |-- age: integer (nullable = true)\n",
      " |-- gender: string (nullable = true)\n",
      " |-- state: string (nullable = true)\n",
      " |-- city: string (nullable = true)\n",
      " |-- country: string (nullable = true)\n",
      " |-- traffic_source: string (nullable = true)\n",
      "\n"
     ]
    }
   ],
   "source": [
    "dim_user.printSchema()"
   ]
  },
  {
   "cell_type": "code",
   "execution_count": 11,
   "id": "eef09eb7-984b-4ddd-be5e-43391d15522a",
   "metadata": {},
   "outputs": [
    {
     "name": "stdout",
     "output_type": "stream",
     "text": [
      "+-------+-----------------+-------------+-----------------+------+-------------+-----------+-------------+--------------+\n",
      "|summary|         user_key|customer_name|              age|gender|        state|       city|      country|traffic_source|\n",
      "+-------+-----------------+-------------+-----------------+------+-------------+-----------+-------------+--------------+\n",
      "|  count|           100000|       100000|           100000|100000|       100000|     100000|       100000|        100000|\n",
      "|   mean|          50000.5|         NULL|         41.01956|  NULL|         NULL|       NULL|         NULL|          NULL|\n",
      "| stddev|28867.65779668779|         NULL|17.07791480123204|  NULL|         NULL|       NULL|         NULL|          NULL|\n",
      "|    min|                1|  Aaron Adams|               12|     F|         Acre|A Ramallosa|    Australia|       Display|\n",
      "|    max|           100000| Zoe Williams|               70|     M|Île-de-France|      海 名|United States|        Search|\n",
      "+-------+-----------------+-------------+-----------------+------+-------------+-----------+-------------+--------------+\n",
      "\n"
     ]
    }
   ],
   "source": [
    "dim_user.describe().show()"
   ]
  },
  {
   "cell_type": "code",
   "execution_count": 12,
   "id": "97cd5b71-7ce5-467f-97a6-479b6088271f",
   "metadata": {},
   "outputs": [
    {
     "name": "stdout",
     "output_type": "stream",
     "text": [
      "root\n",
      " |-- date_key: integer (nullable = true)\n",
      " |-- full_date: date (nullable = true)\n",
      " |-- year: integer (nullable = true)\n",
      " |-- quarter: integer (nullable = true)\n",
      " |-- month: integer (nullable = true)\n",
      " |-- week: integer (nullable = true)\n",
      " |-- day: integer (nullable = true)\n",
      " |-- month_name: string (nullable = true)\n",
      " |-- day_name: string (nullable = true)\n",
      " |-- is_weekend: boolean (nullable = true)\n",
      "\n"
     ]
    }
   ],
   "source": [
    "dim_date.printSchema()"
   ]
  },
  {
   "cell_type": "code",
   "execution_count": 13,
   "id": "0a751b14-481f-4f04-8c31-1a055ec96854",
   "metadata": {},
   "outputs": [
    {
     "name": "stdout",
     "output_type": "stream",
     "text": [
      "+-------+--------------------+------------------+------------------+------------------+------------------+------------------+----------+---------+\n",
      "|summary|            date_key|              year|           quarter|             month|              week|               day|month_name| day_name|\n",
      "+-------+--------------------+------------------+------------------+------------------+------------------+------------------+----------+---------+\n",
      "|  count|                2286|              2286|              2286|              2286|              2286|              2286|      2286|     2286|\n",
      "|   mean|2.0218042123797026E7| 2021.738845144357| 2.462379702537183| 6.379702537182852|25.537620297462816|15.702099737532809|      NULL|     NULL|\n",
      "| stddev|   18229.85144329581|1.8277092298728972|1.1207735400039358|3.4550200180380863| 15.09877420002332| 8.796561142317465|      NULL|     NULL|\n",
      "|    min|            20190110|              2019|                 1|                 1|                 0|                 1|     April|   Friday|\n",
      "|    max|            20250510|              2025|                 4|                12|                53|                31| September|Wednesday|\n",
      "+-------+--------------------+------------------+------------------+------------------+------------------+------------------+----------+---------+\n",
      "\n"
     ]
    }
   ],
   "source": [
    "dim_date.describe().show()"
   ]
  },
  {
   "cell_type": "markdown",
   "id": "eeb07969-a03a-4ed1-b3cb-e133190d1fa2",
   "metadata": {},
   "source": [
    "# Data Cleaning and Transformation"
   ]
  },
  {
   "cell_type": "markdown",
   "id": "cd6ec795-8b81-4ce5-b322-ba2d135be6b2",
   "metadata": {},
   "source": [
    "## Data Type Format Review\n",
    "Based on the analysis, the data types of all attributes in each DataFrame are already appropriate and correctly assigned. Therefore, no data type conversion or modification is necessary. The current format is suitable for further data processing and analysis."
   ]
  },
  {
   "cell_type": "markdown",
   "id": "2b4cca06-c2f1-47f0-93c2-b16ede01b3d5",
   "metadata": {},
   "source": [
    "## Handling Missing Value"
   ]
  },
  {
   "cell_type": "code",
   "execution_count": 14,
   "id": "b3ecef14-cd73-405f-ba1b-55b8f9b43b0f",
   "metadata": {},
   "outputs": [],
   "source": [
    "# Function Checking Missing Values\n",
    "\n",
    "from pyspark.sql.functions import col, isnan, when, count\n",
    "from pyspark.sql.types import DoubleType, FloatType\n",
    "\n",
    "def check_missing_values(df, df_name):\n",
    "    print(f\"Missing values in '{df_name}':\")\n",
    "\n",
    "    exprs = []\n",
    "    for c in df.columns:\n",
    "        dtype = dict(df.dtypes)[c]\n",
    "        if dtype in ['double', 'float']:\n",
    "            exprs.append(count(when(col(c).isNull() | isnan(col(c)), c)).alias(c))\n",
    "        else:\n",
    "            exprs.append(count(when(col(c).isNull(), c)).alias(c))\n",
    "    \n",
    "    df.select(exprs).show()"
   ]
  },
  {
   "cell_type": "code",
   "execution_count": 15,
   "id": "8ddd195f-b457-4f14-b171-5a5ac8c860b9",
   "metadata": {
    "scrolled": true
   },
   "outputs": [
    {
     "name": "stdout",
     "output_type": "stream",
     "text": [
      "Missing values in 'fact_transaction':\n",
      "+--------------+--------+-------+----------+-------+----------+----+------+------------------+----------------+----------+------------+-----------+-----------+\n",
      "|transaction_id|order_id|user_id|product_id|date_id|sale_price|cost|profit|transaction_status|is_order_created|is_shipped|is_delivered|is_returned|num_of_item|\n",
      "+--------------+--------+-------+----------+-------+----------+----+------+------------------+----------------+----------+------------+-----------+-----------+\n",
      "|             0|       0|      0|         0|      0|         0|   0|     0|                 0|               0|         0|           0|          0|          0|\n",
      "+--------------+--------+-------+----------+-------+----------+----+------+------------------+----------------+----------+------------+-----------+-----------+\n",
      "\n",
      "Missing values in 'dim_product':\n",
      "+-----------+----+-----+--------+----------+------------+----+\n",
      "|product_key|name|brand|category|department|retail_price|cost|\n",
      "+-----------+----+-----+--------+----------+------------+----+\n",
      "|          0|   2|   24|       0|         0|           0|   0|\n",
      "+-----------+----+-----+--------+----------+------------+----+\n",
      "\n",
      "Missing values in 'dim_user':\n",
      "+--------+-------------+---+------+-----+----+-------+--------------+\n",
      "|user_key|customer_name|age|gender|state|city|country|traffic_source|\n",
      "+--------+-------------+---+------+-----+----+-------+--------------+\n",
      "|       0|            0|  0|     0|    0|   0|      0|             0|\n",
      "+--------+-------------+---+------+-----+----+-------+--------------+\n",
      "\n",
      "Missing values in 'dim_date':\n",
      "+--------+---------+----+-------+-----+----+---+----------+--------+----------+\n",
      "|date_key|full_date|year|quarter|month|week|day|month_name|day_name|is_weekend|\n",
      "+--------+---------+----+-------+-----+----+---+----------+--------+----------+\n",
      "|       0|        0|   0|      0|    0|   0|  0|         0|       0|         0|\n",
      "+--------+---------+----+-------+-----+----+---+----------+--------+----------+\n",
      "\n"
     ]
    }
   ],
   "source": [
    "check_missing_values(fact_transaction, \"fact_transaction\")\n",
    "check_missing_values(dim_product, \"dim_product\")\n",
    "check_missing_values(dim_user, \"dim_user\")\n",
    "check_missing_values(dim_date, \"dim_date\")"
   ]
  },
  {
   "cell_type": "markdown",
   "id": "51772159-a389-4e60-a274-9948c2fec983",
   "metadata": {},
   "source": [
    "Explanation\n",
    "1. **fact_transaction**: In the fact_transaction, there are no missing values. The data can be directly used for further analysis or transformation without risk of data quality issues related to incompleteness.\n",
    "\n",
    "2. **dim_product**: In the dim_product, there are missing values that require proper handling such as imputation or drop columns. To determine the percentage of missing data in the products DataFrame and decide the appropriate handling method (such as imputation or drop column), we can calculate the percentage of missing values for each column. This will help us understand the severity of missing data and guide us in deciding whether to impute values, drop columns, or perform other data preprocessing steps.\n",
    "\n",
    "3. **dim_user**:In the dim_user, there are no missing values. The data can be directly used for further analysis or transformation without risk of data quality issues related to incompleteness.\n",
    "\n",
    "4. **dim_date**: In the dim_date, there are no missing values. The data can be directly used for further analysis or transformation without risk of data quality issues related to incompleteness."
   ]
  },
  {
   "cell_type": "code",
   "execution_count": 16,
   "id": "63c3dd50-5a6f-4342-a076-0e711da71120",
   "metadata": {},
   "outputs": [
    {
     "name": "stdout",
     "output_type": "stream",
     "text": [
      "+-----------+--------------------+-------------------+--------+----------+------------+----+\n",
      "|product_key|                name|              brand|category|department|retail_price|cost|\n",
      "+-----------+--------------------+-------------------+--------+----------+------------+----+\n",
      "|        0.0|0.006868131868131868|0.08241758241758242|     0.0|       0.0|         0.0| 0.0|\n",
      "+-----------+--------------------+-------------------+--------+----------+------------+----+\n",
      "\n"
     ]
    }
   ],
   "source": [
    "# Show missing values as percentage\n",
    "total_rows = dim_product.count()\n",
    "missing_percentage = dim_product.select([\n",
    "    (count(when(col(c).isNull(), c)) / total_rows * 100).alias(c)\n",
    "    for c in dim_product.columns])\n",
    "missing_percentage.show()"
   ]
  },
  {
   "cell_type": "markdown",
   "id": "0530d263-206f-49a6-b4e3-b9d786feb273",
   "metadata": {},
   "source": [
    "Based on the calculation of the percentage of missing values in each column of the products table, it is found that several columns contain missing values. However, all columns have a missing value percentage of less than 30%. This indicates that the amount of missing data is still within an acceptable range and not too significant. Therefore, imputation (filling in the missing values) can be performed instead of dropping the columns."
   ]
  },
  {
   "cell_type": "code",
   "execution_count": 17,
   "id": "cfbbce21-632b-4796-b8e6-b94d3c9f2c47",
   "metadata": {},
   "outputs": [
    {
     "name": "stdout",
     "output_type": "stream",
     "text": [
      "+-----------+--------------------+-----+-----------+----------+------------------+------------------+\n",
      "|product_key|                name|brand|   category|department|      retail_price|              cost|\n",
      "+-----------+--------------------+-----+-----------+----------+------------------+------------------+\n",
      "|      13842|Low Profile Dyed ...|   MG|Accessories|     Women|              6.25| 2.518749990849756|\n",
      "|      13928|Low Profile Dyed ...|   MG|Accessories|     Women| 5.949999809265137|2.3383499148894105|\n",
      "|      14115|Enzyme Regular So...|   MG|Accessories|     Women|10.989999771118164| 4.879559879379869|\n",
      "|      14157|Enzyme Regular So...|   MG|Accessories|     Women|10.989999771118164| 4.648769887297898|\n",
      "|      14273|Washed Canvas Ivy...|   MG|Accessories|     Women|15.989999771118164| 6.507929886473045|\n",
      "|      15674|Low Profile Dyed ...|   MG|       Plus|     Women|              6.25|3.1062499998370185|\n",
      "|      15816|Low Profile Dyed ...|   MG|       Plus|     Women| 5.949999809265137|3.1772999091416594|\n",
      "|      28646|4 Panel Large Bil...|   MG|Accessories|       Men|19.989999771118164|  8.73562987972319|\n",
      "|      28670|Low Profile Dyed ...|   MG|Accessories|       Men| 6.179999828338623|2.6759399153566363|\n",
      "|      28714|Low Profile Dyed ...|   MG|Accessories|       Men|              6.25| 2.275000000372529|\n",
      "|      28779|Fishing Hat (01)-...|   MG|Accessories|       Men|20.989999771118164|  7.36748991528362|\n",
      "|      28904|Fashion Plaid Ivy...|   MG|Accessories|       Men|15.989999771118164|6.7957498848550015|\n",
      "|      29007|Washed Hunting Fi...|   MG|Accessories|       Men|26.989999771118164|10.795999868229032|\n",
      "|      12777|Womens MW Tankini...|   MW|       Swim|     Women|  44.9900016784668|16.691290760814255|\n",
      "|      12810|Mw Long Ruffle Ta...|   MW|       Swim|     Women|  44.9900016784668|21.055320884742144|\n",
      "|      12812|Womens long tanki...|   MW|       Swim|     Women|  44.9900016784668| 21.14530090284795|\n",
      "|      12853|Womens MW Tankini...|   MW|       Swim|     Women|  44.9900016784668| 18.71584077014294|\n",
      "|      12900|Womens One Piece/...|   MW|       Swim|     Women|  39.9900016784668| 17.39565078823306|\n",
      "|      13247|Womens swimsuit M...|   MW|       Swim|     Women|  44.9900016784668| 20.65041088706643|\n",
      "|      13477|MW Women's Swimsu...|   MW|       Swim|     Women|  54.9900016784668|22.600890809484422|\n",
      "+-----------+--------------------+-----+-----------+----------+------------------+------------------+\n",
      "only showing top 20 rows\n",
      "\n"
     ]
    }
   ],
   "source": [
    "# Impute missing values in 'brand'\n",
    "dim_product_imputed = dim_product.withColumn(\n",
    "    'brand', when(col('brand').isNull(), 'non-brand').otherwise(col('brand'))\n",
    ")\n",
    "\n",
    "# Impute missing values in 'product_name'\n",
    "dim_product_imputed = dim_product_imputed.withColumn(\n",
    "    'name', when(col('name').isNull(), 'unknown').otherwise(col('name'))\n",
    ")\n",
    "\n",
    "dim_product_imputed.show()"
   ]
  },
  {
   "cell_type": "code",
   "execution_count": 18,
   "id": "8bb657e8-097c-4d5b-a7ab-920ab6bbf642",
   "metadata": {},
   "outputs": [
    {
     "name": "stdout",
     "output_type": "stream",
     "text": [
      "+-----------+----+-----+--------+----------+------------+----+\n",
      "|product_key|name|brand|category|department|retail_price|cost|\n",
      "+-----------+----+-----+--------+----------+------------+----+\n",
      "|        0.0| 0.0|  0.0|     0.0|       0.0|         0.0| 0.0|\n",
      "+-----------+----+-----+--------+----------+------------+----+\n",
      "\n"
     ]
    }
   ],
   "source": [
    "# Show missing values as percentage after imputation\n",
    "total_rows = dim_product_imputed.count()\n",
    "missing_percentage = dim_product_imputed.select([\n",
    "    (count(when(col(c).isNull(), c)) / total_rows * 100).alias(c)\n",
    "    for c in dim_product_imputed.columns])\n",
    "missing_percentage.show()"
   ]
  },
  {
   "cell_type": "markdown",
   "id": "54a3d74a-6172-4ae5-b661-d78895b6e5d1",
   "metadata": {},
   "source": [
    "After performing imputation, the missing values in the brand and product_name columns have been successfully handled. Specifically, all null values in the brand column were replaced with \"non-brand\", while missing entries in the product_name column were filled with \"unknown\". As a result, there are no more missing values in the dataset, and the products table is now complete and ready for further analysis without the risk of data quality issues due to null values."
   ]
  },
  {
   "cell_type": "markdown",
   "id": "401cbb2f-09e2-434d-b0b7-313e5856a028",
   "metadata": {},
   "source": [
    "## Handling Duplicates Row"
   ]
  },
  {
   "cell_type": "code",
   "execution_count": 19,
   "id": "87a637cb-a189-4db2-9f70-4d0fad814bc3",
   "metadata": {},
   "outputs": [
    {
     "name": "stdout",
     "output_type": "stream",
     "text": [
      "+--------------+--------+-------+----------+--------+------------------+------------------+--------------------+------------------+----------------+----------+------------+-----------+-----------+\n",
      "|transaction_id|order_id|user_id|product_id| date_id|        sale_price|              cost|              profit|transaction_status|is_order_created|is_shipped|is_delivered|is_returned|num_of_item|\n",
      "+--------------+--------+-------+----------+--------+------------------+------------------+--------------------+------------------+----------------+----------+------------+-----------+-----------+\n",
      "|        177152|  122160|  98069|     14235|20250412|0.0199999995529651|0.0082999997779726|0.011699999774992502|         Cancelled|            true|     false|       false|      false|          1|\n",
      "|         28849|   19870|  15771|     14235|20240529|0.0199999995529651|0.0082999997779726|0.011699999774992502|          Complete|            true|      true|        true|      false|          4|\n",
      "|         27428|   18901|  15036|     14235|20240514|0.0199999995529651|0.0082999997779726|0.011699999774992502|        Processing|            true|     false|       false|      false|          1|\n",
      "|         79317|   54742|  43944|     14235|20250203|0.0199999995529651|0.0082999997779726|0.011699999774992502|           Shipped|            true|      true|       false|      false|          2|\n",
      "|        158000|  108931|  87429|     14235|20250118|0.0199999995529651|0.0082999997779726|0.011699999774992502|           Shipped|            true|      true|       false|      false|          3|\n",
      "+--------------+--------+-------+----------+--------+------------------+------------------+--------------------+------------------+----------------+----------+------------+-----------+-----------+\n",
      "only showing top 5 rows\n",
      "\n"
     ]
    }
   ],
   "source": [
    "fact_transaction.show(5)"
   ]
  },
  {
   "cell_type": "code",
   "execution_count": 20,
   "id": "ecb816c4-6a7f-4341-b220-21de053d2132",
   "metadata": {},
   "outputs": [
    {
     "name": "stdout",
     "output_type": "stream",
     "text": [
      "No duplicate rows found.\n",
      "After Checking and Dropping Duplicate Rows:\n",
      "+--------------+--------+-------+----------+--------+------------------+------------------+--------------------+------------------+----------------+----------+------------+-----------+-----------+\n",
      "|transaction_id|order_id|user_id|product_id| date_id|        sale_price|              cost|              profit|transaction_status|is_order_created|is_shipped|is_delivered|is_returned|num_of_item|\n",
      "+--------------+--------+-------+----------+--------+------------------+------------------+--------------------+------------------+----------------+----------+------------+-----------+-----------+\n",
      "|        177152|  122160|  98069|     14235|20250412|0.0199999995529651|0.0082999997779726|0.011699999774992502|         Cancelled|            true|     false|       false|      false|          1|\n",
      "|         28849|   19870|  15771|     14235|20240529|0.0199999995529651|0.0082999997779726|0.011699999774992502|          Complete|            true|      true|        true|      false|          4|\n",
      "|         27428|   18901|  15036|     14235|20240514|0.0199999995529651|0.0082999997779726|0.011699999774992502|        Processing|            true|     false|       false|      false|          1|\n",
      "|         79317|   54742|  43944|     14235|20250203|0.0199999995529651|0.0082999997779726|0.011699999774992502|           Shipped|            true|      true|       false|      false|          2|\n",
      "|        158000|  108931|  87429|     14235|20250118|0.0199999995529651|0.0082999997779726|0.011699999774992502|           Shipped|            true|      true|       false|      false|          3|\n",
      "+--------------+--------+-------+----------+--------+------------------+------------------+--------------------+------------------+----------------+----------+------------+-----------+-----------+\n",
      "only showing top 5 rows\n",
      "\n"
     ]
    }
   ],
   "source": [
    "# Checking is there any duplicates row for fact_transaction\n",
    "fact_transaction_duplicate_rows = fact_transaction.groupBy(fact_transaction.columns).count().filter(\"count > 1\")\n",
    "fact_transaction_duplicate_count = fact_transaction_duplicate_rows.count()\n",
    "\n",
    "if fact_transaction_duplicate_count > 0:\n",
    "    print(f\"Found {fact_transaction_duplicate_count} duplicate rows. Dropping duplicates...\")\n",
    "    fact_transaction_clean = fact_transaction.dropDuplicates()\n",
    "else:\n",
    "    print(\"No duplicate rows found.\")\n",
    "    fact_transaction_clean = fact_transaction\n",
    "\n",
    "# The result\n",
    "print(\"After Checking and Dropping Duplicate Rows:\")\n",
    "fact_transaction_clean.show(5)"
   ]
  },
  {
   "cell_type": "code",
   "execution_count": 21,
   "id": "8e2da1ef-a5dd-4e5c-aa1e-830202a5e274",
   "metadata": {},
   "outputs": [
    {
     "name": "stdout",
     "output_type": "stream",
     "text": [
      "+-----------+--------------------+-----+-----------+----------+------------------+------------------+\n",
      "|product_key|                name|brand|   category|department|      retail_price|              cost|\n",
      "+-----------+--------------------+-----+-----------+----------+------------------+------------------+\n",
      "|      13842|Low Profile Dyed ...|   MG|Accessories|     Women|              6.25| 2.518749990849756|\n",
      "|      13928|Low Profile Dyed ...|   MG|Accessories|     Women| 5.949999809265137|2.3383499148894105|\n",
      "|      14115|Enzyme Regular So...|   MG|Accessories|     Women|10.989999771118164| 4.879559879379869|\n",
      "|      14157|Enzyme Regular So...|   MG|Accessories|     Women|10.989999771118164| 4.648769887297898|\n",
      "|      14273|Washed Canvas Ivy...|   MG|Accessories|     Women|15.989999771118164| 6.507929886473045|\n",
      "+-----------+--------------------+-----+-----------+----------+------------------+------------------+\n",
      "only showing top 5 rows\n",
      "\n"
     ]
    }
   ],
   "source": [
    "dim_product_imputed.show(5)"
   ]
  },
  {
   "cell_type": "code",
   "execution_count": 22,
   "id": "77238822-75ed-47cb-bc64-114538dc724d",
   "metadata": {},
   "outputs": [
    {
     "name": "stdout",
     "output_type": "stream",
     "text": [
      "No duplicate rows found.\n",
      "After Checking and Dropping Duplicate Rows:\n",
      "+-----------+--------------------+-----+-----------+----------+------------------+------------------+\n",
      "|product_key|                name|brand|   category|department|      retail_price|              cost|\n",
      "+-----------+--------------------+-----+-----------+----------+------------------+------------------+\n",
      "|      13842|Low Profile Dyed ...|   MG|Accessories|     Women|              6.25| 2.518749990849756|\n",
      "|      13928|Low Profile Dyed ...|   MG|Accessories|     Women| 5.949999809265137|2.3383499148894105|\n",
      "|      14115|Enzyme Regular So...|   MG|Accessories|     Women|10.989999771118164| 4.879559879379869|\n",
      "|      14157|Enzyme Regular So...|   MG|Accessories|     Women|10.989999771118164| 4.648769887297898|\n",
      "|      14273|Washed Canvas Ivy...|   MG|Accessories|     Women|15.989999771118164| 6.507929886473045|\n",
      "+-----------+--------------------+-----+-----------+----------+------------------+------------------+\n",
      "only showing top 5 rows\n",
      "\n"
     ]
    }
   ],
   "source": [
    "# Checking is there any duplicates row for dim_product\n",
    "dim_product_duplicate_rows = dim_product_imputed.groupBy(dim_product_imputed.columns).count().filter(\"count > 1\")\n",
    "dim_product_duplicate_count = dim_product_duplicate_rows.count()\n",
    "\n",
    "if dim_product_duplicate_count > 0:\n",
    "    print(f\"Found {dim_product_duplicate_count} duplicate rows. Dropping duplicates...\")\n",
    "    dim_product_clean = dim_product_imputed.dropDuplicates()\n",
    "else:\n",
    "    print(\"No duplicate rows found.\")\n",
    "    dim_product_clean = dim_product_imputed\n",
    "\n",
    "# The result\n",
    "print(\"After Checking and Dropping Duplicate Rows:\")\n",
    "dim_product_clean.show(5)"
   ]
  },
  {
   "cell_type": "code",
   "execution_count": 23,
   "id": "1bc42ef3-2a1b-43ee-99f1-a2bf2f537e03",
   "metadata": {},
   "outputs": [
    {
     "name": "stdout",
     "output_type": "stream",
     "text": [
      "+--------+----------------+---+------+-----+----+-------+--------------+\n",
      "|user_key|   customer_name|age|gender|state|city|country|traffic_source|\n",
      "+--------+----------------+---+------+-----+----+-------+--------------+\n",
      "|   25075|Clifford Johnson| 36|     M| Acre|null| Brasil|        Search|\n",
      "|   97806|    Angela Lopez| 50|     F| Acre|null| Brasil|        Search|\n",
      "|   41816|    Susan Kelley| 55|     F| Acre|null| Brasil|        Search|\n",
      "|   82351|Jacqueline Zhang| 62|     F| Acre|null| Brasil|        Search|\n",
      "|   70916|    Marie Parker| 66|     F| Acre|null| Brasil|        Search|\n",
      "+--------+----------------+---+------+-----+----+-------+--------------+\n",
      "only showing top 5 rows\n",
      "\n"
     ]
    }
   ],
   "source": [
    "dim_user.show(5)"
   ]
  },
  {
   "cell_type": "code",
   "execution_count": 24,
   "id": "939ba447-917c-4b5a-a948-f6f9f1358891",
   "metadata": {},
   "outputs": [
    {
     "name": "stdout",
     "output_type": "stream",
     "text": [
      "No duplicate rows found.\n",
      "After Checking and Dropping Duplicate Rows:\n",
      "+--------+----------------+---+------+-----+----+-------+--------------+\n",
      "|user_key|   customer_name|age|gender|state|city|country|traffic_source|\n",
      "+--------+----------------+---+------+-----+----+-------+--------------+\n",
      "|   25075|Clifford Johnson| 36|     M| Acre|null| Brasil|        Search|\n",
      "|   97806|    Angela Lopez| 50|     F| Acre|null| Brasil|        Search|\n",
      "|   41816|    Susan Kelley| 55|     F| Acre|null| Brasil|        Search|\n",
      "|   82351|Jacqueline Zhang| 62|     F| Acre|null| Brasil|        Search|\n",
      "|   70916|    Marie Parker| 66|     F| Acre|null| Brasil|        Search|\n",
      "+--------+----------------+---+------+-----+----+-------+--------------+\n",
      "only showing top 5 rows\n",
      "\n"
     ]
    }
   ],
   "source": [
    "# Checking is there any duplicates row for products\n",
    "dim_user_duplicate_rows = dim_user.groupBy(dim_user.columns).count().filter(\"count > 1\")\n",
    "dim_user_duplicate_count = dim_user_duplicate_rows.count()\n",
    "\n",
    "if dim_user_duplicate_count > 0:\n",
    "    print(f\"Found {dim_user_duplicate_count} duplicate rows. Dropping duplicates...\")\n",
    "    dim_user_clean = dim_user.dropDuplicates()\n",
    "else:\n",
    "    print(\"No duplicate rows found.\")\n",
    "    dim_user_clean = dim_user\n",
    "\n",
    "# The result\n",
    "print(\"After Checking and Dropping Duplicate Rows:\")\n",
    "dim_user_clean.show(5)"
   ]
  },
  {
   "cell_type": "code",
   "execution_count": 25,
   "id": "78771f86-6df7-4234-9cae-970ed61233f1",
   "metadata": {},
   "outputs": [
    {
     "name": "stdout",
     "output_type": "stream",
     "text": [
      "+--------+----------+----+-------+-----+----+---+----------+--------+----------+\n",
      "|date_key| full_date|year|quarter|month|week|day|month_name|day_name|is_weekend|\n",
      "+--------+----------+----+-------+-----+----+---+----------+--------+----------+\n",
      "|20190110|2019-01-10|2019|      1|    1|   1| 10|   January|Thursday|     false|\n",
      "|20190111|2019-01-11|2019|      1|    1|   1| 11|   January|  Friday|     false|\n",
      "|20190117|2019-01-17|2019|      1|    1|   2| 17|   January|Thursday|     false|\n",
      "|20190118|2019-01-18|2019|      1|    1|   2| 18|   January|  Friday|     false|\n",
      "|20190122|2019-01-22|2019|      1|    1|   3| 22|   January| Tuesday|     false|\n",
      "+--------+----------+----+-------+-----+----+---+----------+--------+----------+\n",
      "only showing top 5 rows\n",
      "\n"
     ]
    }
   ],
   "source": [
    "dim_date.show(5)"
   ]
  },
  {
   "cell_type": "code",
   "execution_count": 26,
   "id": "75f37e6c-6f22-4576-b4f4-207653f9c01a",
   "metadata": {},
   "outputs": [
    {
     "name": "stdout",
     "output_type": "stream",
     "text": [
      "No duplicate rows found.\n",
      "After Checking and Dropping Duplicate Rows:\n",
      "+--------+----------+----+-------+-----+----+---+----------+--------+----------+\n",
      "|date_key| full_date|year|quarter|month|week|day|month_name|day_name|is_weekend|\n",
      "+--------+----------+----+-------+-----+----+---+----------+--------+----------+\n",
      "|20190110|2019-01-10|2019|      1|    1|   1| 10|   January|Thursday|     false|\n",
      "|20190111|2019-01-11|2019|      1|    1|   1| 11|   January|  Friday|     false|\n",
      "|20190117|2019-01-17|2019|      1|    1|   2| 17|   January|Thursday|     false|\n",
      "|20190118|2019-01-18|2019|      1|    1|   2| 18|   January|  Friday|     false|\n",
      "|20190122|2019-01-22|2019|      1|    1|   3| 22|   January| Tuesday|     false|\n",
      "+--------+----------+----+-------+-----+----+---+----------+--------+----------+\n",
      "only showing top 5 rows\n",
      "\n"
     ]
    }
   ],
   "source": [
    "# Checking is there any duplicates row for dim_date\n",
    "dim_date_duplicate_rows = dim_date.groupBy(dim_date.columns).count().filter(\"count > 1\")\n",
    "dim_date_duplicate_count = dim_date_duplicate_rows.count()\n",
    "\n",
    "if dim_date_duplicate_count > 0:\n",
    "    print(f\"Found {dim_date_duplicate_count} duplicate rows. Dropping duplicates...\")\n",
    "    dim_date_clean = dim_date.dropDuplicates()\n",
    "else:\n",
    "    print(\"No duplicate rows found.\")\n",
    "    dim_date_clean = dim_date\n",
    "\n",
    "# The result\n",
    "print(\"After Checking and Dropping Duplicate Rows:\")\n",
    "dim_date.show(5)"
   ]
  },
  {
   "cell_type": "markdown",
   "id": "4869de66-98cd-470e-8c6d-2e5bb6141daa",
   "metadata": {},
   "source": [
    "After performing duplicate checks across all DataFrames, it was confirmed that there are no duplicate records present. Each row in the datasets is unique, and therefore, no further action is required regarding duplicate removal. The data is clean and ready for the next steps in the analysis process."
   ]
  },
  {
   "cell_type": "markdown",
   "id": "083a0c26-da0e-47a0-a5a3-c08f57bea193",
   "metadata": {},
   "source": [
    "# Transform Data to CSV file"
   ]
  },
  {
   "cell_type": "code",
   "execution_count": 27,
   "id": "58f61482-63f5-4ba3-b779-a1ce0e8544db",
   "metadata": {},
   "outputs": [],
   "source": [
    "fact_transaction_clean.write.mode(\"overwrite\").csv('fact_transaction_clean.csv', header=True)"
   ]
  },
  {
   "cell_type": "code",
   "execution_count": 28,
   "id": "09aac372-5f8e-4b51-a3a4-e633891c32d8",
   "metadata": {},
   "outputs": [],
   "source": [
    "dim_product_clean.write.mode(\"overwrite\").csv('dim_product_clean.csv', header=True)"
   ]
  },
  {
   "cell_type": "code",
   "execution_count": 29,
   "id": "5edfb981-ff7c-4659-a4e7-32d357c200e7",
   "metadata": {},
   "outputs": [],
   "source": [
    "dim_user_clean.write.mode(\"overwrite\").csv('dim_user_clean.csv', header=True)"
   ]
  },
  {
   "cell_type": "code",
   "execution_count": 30,
   "id": "d73b1904-5734-4e34-aa37-be85640d542e",
   "metadata": {},
   "outputs": [],
   "source": [
    "dim_date_clean.write.mode(\"overwrite\").csv('dim_date_clean.csv', header=True)"
   ]
  },
  {
   "cell_type": "markdown",
   "id": "1821b435-a902-4298-80e3-4af4da43d282",
   "metadata": {},
   "source": [
    "# Create Connection"
   ]
  },
  {
   "cell_type": "code",
   "execution_count": 33,
   "id": "d050d225-785e-4454-a0ca-f81b4f1627d8",
   "metadata": {},
   "outputs": [],
   "source": [
    "# PostgreSQL JDBC Connestion\n",
    "postgres_url = \"jdbc:postgresql://host.docker.internal:5432/gc6\"\n",
    "postgres_properties = {\n",
    "    \"user\": \"postgres\",\n",
    "    \"password\": \"Rahmanda123\",\n",
    "    \"driver\": \"org.postgresql.Driver\"\n",
    "}"
   ]
  },
  {
   "cell_type": "markdown",
   "id": "6bda103c-f169-43fb-83ea-f9438ab32933",
   "metadata": {},
   "source": [
    "## dim_user"
   ]
  },
  {
   "cell_type": "code",
   "execution_count": 34,
   "id": "43676439-1335-4315-a607-876e6c687eb7",
   "metadata": {},
   "outputs": [],
   "source": [
    "data_dim_user = spark.read.csv('dim_user.csv', header=True, inferSchema=True)\n",
    "data_dim_user = data_dim_user.drop(\"_c0\")"
   ]
  },
  {
   "cell_type": "code",
   "execution_count": 35,
   "id": "b93e0011-ff5e-493b-b2fe-9bc8208a5728",
   "metadata": {},
   "outputs": [],
   "source": [
    "data_dim_user.write.jdbc(url=postgres_url, table=\"dim_user\", mode=\"append\", properties=postgres_properties)"
   ]
  },
  {
   "cell_type": "markdown",
   "id": "236534df-1b5d-448a-9c70-ad47f663d3ac",
   "metadata": {},
   "source": [
    "## dim_product"
   ]
  },
  {
   "cell_type": "code",
   "execution_count": 36,
   "id": "db79eb41-1289-4667-b9a6-819229a854e3",
   "metadata": {},
   "outputs": [],
   "source": [
    "data_dim_product = spark.read.csv('dim_product.csv', header=True, inferSchema=True)\n",
    "data_dim_product = data_dim_product.drop(\"_c0\")"
   ]
  },
  {
   "cell_type": "code",
   "execution_count": 37,
   "id": "536df973-0274-4905-9c6a-8b4799137625",
   "metadata": {},
   "outputs": [],
   "source": [
    "data_dim_product.write.jdbc(url=postgres_url, table=\"dim_product\", mode=\"append\", properties=postgres_properties)"
   ]
  },
  {
   "cell_type": "markdown",
   "id": "5f271c49-02f5-4452-9a7f-afaf21f60eef",
   "metadata": {},
   "source": [
    "## dim_date"
   ]
  },
  {
   "cell_type": "code",
   "execution_count": 38,
   "id": "3ac4f17d-b034-4d50-b330-027cca403b3f",
   "metadata": {},
   "outputs": [],
   "source": [
    "data_dim_date = spark.read.csv('dim_date.csv', header=True, inferSchema=True)\n",
    "data_dim_date = data_dim_date.drop(\"_c0\")"
   ]
  },
  {
   "cell_type": "code",
   "execution_count": 39,
   "id": "55596b2d-0430-47aa-9696-dcabf86f23ce",
   "metadata": {},
   "outputs": [],
   "source": [
    "data_dim_date.write.jdbc(url=postgres_url, table=\"dim_date\", mode=\"append\", properties=postgres_properties)"
   ]
  },
  {
   "cell_type": "markdown",
   "id": "6d1cbdca-be27-43ce-8a00-9847f55a84d4",
   "metadata": {},
   "source": [
    "## fact_transaction"
   ]
  },
  {
   "cell_type": "code",
   "execution_count": 40,
   "id": "02ccb4c6-e2a1-4d11-92a6-0ecea053d74b",
   "metadata": {},
   "outputs": [],
   "source": [
    "data_fact_transaction = spark.read.csv('fact_transaction_clean.csv', header=True, inferSchema=True)\n",
    "data_fact_transaction = data_fact_transaction.drop(\"_c0\")"
   ]
  },
  {
   "cell_type": "code",
   "execution_count": 41,
   "id": "fac124b7-17db-4f92-993b-f31acc48dcec",
   "metadata": {
    "scrolled": true
   },
   "outputs": [],
   "source": [
    "data_fact_transaction.write.jdbc(url=postgres_url, table=\"fact_transaction\", mode=\"append\", properties=postgres_properties)"
   ]
  },
  {
   "cell_type": "code",
   "execution_count": 42,
   "id": "75220437-d1d5-4719-92ff-1d3bd88fcba3",
   "metadata": {},
   "outputs": [
    {
     "name": "stdout",
     "output_type": "stream",
     "text": [
      "Jumlah data dim_user: 100000\n",
      "Jumlah data dim_product: 29120\n",
      "Jumlah data dim_date: 2286\n",
      "Jumlah data fact_transaction: 180753\n"
     ]
    }
   ],
   "source": [
    "print(\"Jumlah data dim_user:\", data_dim_user.count())\n",
    "print(\"Jumlah data dim_product:\", data_dim_product.count())\n",
    "print(\"Jumlah data dim_date:\", data_dim_date.count())\n",
    "print(\"Jumlah data fact_transaction:\", data_fact_transaction.count())"
   ]
  },
  {
   "cell_type": "markdown",
   "id": "bd1600e6-2d73-43ee-94a7-a7759a9e46c1",
   "metadata": {},
   "source": [
    "# Presentation Link\n",
    "\n",
    "https://www.canva.com/design/DAGmrxYZ9OQ/cAulTq2ruKqaUUOVb1XkhA/edit?utm_content=DAGmrxYZ9OQ&utm_campaign=designshare&utm_medium=link2&utm_source=sharebutton"
   ]
  }
 ],
 "metadata": {
  "kernelspec": {
   "display_name": "Python 3 (ipykernel)",
   "language": "python",
   "name": "python3"
  },
  "language_info": {
   "codemirror_mode": {
    "name": "ipython",
    "version": 3
   },
   "file_extension": ".py",
   "mimetype": "text/x-python",
   "name": "python",
   "nbconvert_exporter": "python",
   "pygments_lexer": "ipython3",
   "version": "3.12.10"
  }
 },
 "nbformat": 4,
 "nbformat_minor": 5
}
